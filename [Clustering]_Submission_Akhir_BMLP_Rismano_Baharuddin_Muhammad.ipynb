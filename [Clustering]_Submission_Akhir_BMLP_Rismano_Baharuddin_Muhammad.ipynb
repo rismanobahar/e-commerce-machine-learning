{
  "cells": [
    {
      "cell_type": "markdown",
      "metadata": {
        "id": "kZLRMFl0JyyQ"
      },
      "source": [
        "# **1. Perkenalan Dataset**\n"
      ]
    },
    {
      "cell_type": "markdown",
      "metadata": {
        "id": "hssSDn-5n3HR"
      },
      "source": [
        "Tahap pertama, Anda harus mencari dan menggunakan dataset **tanpa label** dengan ketentuan sebagai berikut:\n",
        "\n",
        "1. **Sumber Dataset**:  \n",
        "   Dataset dapat diperoleh dari berbagai sumber, seperti public repositories (*Kaggle*, *UCI ML Repository*, *Open Data*) atau data primer yang Anda kumpulkan sendiri.\n",
        "   \n",
        "2. **Ketentuan Dataset**:\n",
        "   - **Tanpa label**: Dataset tidak boleh memiliki label atau kelas.\n",
        "   - **Jumlah Baris**: Minimal 1000 baris untuk memastikan dataset cukup besar untuk analisis yang bermakna.\n",
        "   - **Tipe Data**: Harus mengandung data **kategorikal** dan **numerikal**.\n",
        "     - *Kategorikal*: Misalnya jenis kelamin, kategori produk.\n",
        "     - *Numerikal*: Misalnya usia, pendapatan, harga.\n",
        "\n",
        "3. **Pembatasan**:  \n",
        "   Dataset yang sudah digunakan dalam latihan clustering (seperti customer segmentation) tidak boleh digunakan."
      ]
    },
    {
      "cell_type": "markdown",
      "metadata": {
        "id": "fKADPWcFKlj3"
      },
      "source": [
        "# **2. Import Library**"
      ]
    },
    {
      "cell_type": "markdown",
      "metadata": {
        "id": "LgA3ERnVn84N"
      },
      "source": [
        "Pada tahap ini, Anda perlu mengimpor beberapa pustaka (library) Python yang dibutuhkan untuk analisis data dan pembangunan model machine learning."
      ]
    },
    {
      "cell_type": "code",
      "execution_count": 22,
      "metadata": {
        "id": "BlmvjLY9M4Yj"
      },
      "outputs": [],
      "source": [
        "import pandas as pd  # Mengimpor pustaka pandas untuk manipulasi dan analisis data\n",
        "import matplotlib.pyplot as plt  # Mengimpor pustaka matplotlib untuk visualisasi grafik\n",
        "from yellowbrick.cluster import KElbowVisualizer  # Mengimpor KElbowVisualizer untuk visualisasi metode Elbow\n",
        " \n",
        "from sklearn.cluster import KMeans, DBSCAN  # Mengimpor algoritma KMeans dan DBSCAN untuk clustering\n",
        "from sklearn.metrics import silhouette_score  # Mengimpor silhouette_score untuk mengevaluasi hasil clustering"
      ]
    },
    {
      "cell_type": "markdown",
      "metadata": {
        "id": "f3YIEnAFKrKL"
      },
      "source": [
        "# **3. Memuat Dataset**"
      ]
    },
    {
      "cell_type": "markdown",
      "metadata": {
        "id": "Ey3ItwTen_7E"
      },
      "source": [
        "Pada tahap ini, Anda perlu memuat dataset ke dalam notebook. Jika dataset dalam format CSV, Anda bisa menggunakan pustaka pandas untuk membacanya. Pastikan untuk mengecek beberapa baris awal dataset untuk memahami strukturnya dan memastikan data telah dimuat dengan benar.\n",
        "\n",
        "Jika dataset berada di Google Drive, pastikan Anda menghubungkan Google Drive ke Colab terlebih dahulu. Setelah dataset berhasil dimuat, langkah berikutnya adalah memeriksa kesesuaian data dan siap untuk dianalisis lebih lanjut."
      ]
    },
    {
      "cell_type": "code",
      "execution_count": 23,
      "metadata": {
        "id": "GHCGNTyrM5fS"
      },
      "outputs": [
        {
          "data": {
            "application/vnd.microsoft.datawrangler.viewer.v0+json": {
              "columns": [
                {
                  "name": "index",
                  "rawType": "int64",
                  "type": "integer"
                },
                {
                  "name": "InvoiceNo",
                  "rawType": "object",
                  "type": "string"
                },
                {
                  "name": "StockCode",
                  "rawType": "object",
                  "type": "string"
                },
                {
                  "name": "Description",
                  "rawType": "object",
                  "type": "string"
                },
                {
                  "name": "Quantity",
                  "rawType": "int64",
                  "type": "integer"
                },
                {
                  "name": "InvoiceDate",
                  "rawType": "object",
                  "type": "string"
                },
                {
                  "name": "UnitPrice",
                  "rawType": "float64",
                  "type": "float"
                },
                {
                  "name": "CustomerID",
                  "rawType": "float64",
                  "type": "float"
                },
                {
                  "name": "Country",
                  "rawType": "object",
                  "type": "string"
                }
              ],
              "conversionMethod": "pd.DataFrame",
              "ref": "56b1448c-5828-4503-abf6-20b962101f05",
              "rows": [
                [
                  "0",
                  "536365",
                  "85123A",
                  "WHITE HANGING HEART T-LIGHT HOLDER",
                  "6",
                  "12/1/2010 8:26",
                  "2.55",
                  "17850.0",
                  "United Kingdom"
                ],
                [
                  "1",
                  "536365",
                  "71053",
                  "WHITE METAL LANTERN",
                  "6",
                  "12/1/2010 8:26",
                  "3.39",
                  "17850.0",
                  "United Kingdom"
                ],
                [
                  "2",
                  "536365",
                  "84406B",
                  "CREAM CUPID HEARTS COAT HANGER",
                  "8",
                  "12/1/2010 8:26",
                  "2.75",
                  "17850.0",
                  "United Kingdom"
                ],
                [
                  "3",
                  "536365",
                  "84029G",
                  "KNITTED UNION FLAG HOT WATER BOTTLE",
                  "6",
                  "12/1/2010 8:26",
                  "3.39",
                  "17850.0",
                  "United Kingdom"
                ],
                [
                  "4",
                  "536365",
                  "84029E",
                  "RED WOOLLY HOTTIE WHITE HEART.",
                  "6",
                  "12/1/2010 8:26",
                  "3.39",
                  "17850.0",
                  "United Kingdom"
                ]
              ],
              "shape": {
                "columns": 8,
                "rows": 5
              }
            },
            "text/html": [
              "<div>\n",
              "<style scoped>\n",
              "    .dataframe tbody tr th:only-of-type {\n",
              "        vertical-align: middle;\n",
              "    }\n",
              "\n",
              "    .dataframe tbody tr th {\n",
              "        vertical-align: top;\n",
              "    }\n",
              "\n",
              "    .dataframe thead th {\n",
              "        text-align: right;\n",
              "    }\n",
              "</style>\n",
              "<table border=\"1\" class=\"dataframe\">\n",
              "  <thead>\n",
              "    <tr style=\"text-align: right;\">\n",
              "      <th></th>\n",
              "      <th>InvoiceNo</th>\n",
              "      <th>StockCode</th>\n",
              "      <th>Description</th>\n",
              "      <th>Quantity</th>\n",
              "      <th>InvoiceDate</th>\n",
              "      <th>UnitPrice</th>\n",
              "      <th>CustomerID</th>\n",
              "      <th>Country</th>\n",
              "    </tr>\n",
              "  </thead>\n",
              "  <tbody>\n",
              "    <tr>\n",
              "      <th>0</th>\n",
              "      <td>536365</td>\n",
              "      <td>85123A</td>\n",
              "      <td>WHITE HANGING HEART T-LIGHT HOLDER</td>\n",
              "      <td>6</td>\n",
              "      <td>12/1/2010 8:26</td>\n",
              "      <td>2.55</td>\n",
              "      <td>17850.0</td>\n",
              "      <td>United Kingdom</td>\n",
              "    </tr>\n",
              "    <tr>\n",
              "      <th>1</th>\n",
              "      <td>536365</td>\n",
              "      <td>71053</td>\n",
              "      <td>WHITE METAL LANTERN</td>\n",
              "      <td>6</td>\n",
              "      <td>12/1/2010 8:26</td>\n",
              "      <td>3.39</td>\n",
              "      <td>17850.0</td>\n",
              "      <td>United Kingdom</td>\n",
              "    </tr>\n",
              "    <tr>\n",
              "      <th>2</th>\n",
              "      <td>536365</td>\n",
              "      <td>84406B</td>\n",
              "      <td>CREAM CUPID HEARTS COAT HANGER</td>\n",
              "      <td>8</td>\n",
              "      <td>12/1/2010 8:26</td>\n",
              "      <td>2.75</td>\n",
              "      <td>17850.0</td>\n",
              "      <td>United Kingdom</td>\n",
              "    </tr>\n",
              "    <tr>\n",
              "      <th>3</th>\n",
              "      <td>536365</td>\n",
              "      <td>84029G</td>\n",
              "      <td>KNITTED UNION FLAG HOT WATER BOTTLE</td>\n",
              "      <td>6</td>\n",
              "      <td>12/1/2010 8:26</td>\n",
              "      <td>3.39</td>\n",
              "      <td>17850.0</td>\n",
              "      <td>United Kingdom</td>\n",
              "    </tr>\n",
              "    <tr>\n",
              "      <th>4</th>\n",
              "      <td>536365</td>\n",
              "      <td>84029E</td>\n",
              "      <td>RED WOOLLY HOTTIE WHITE HEART.</td>\n",
              "      <td>6</td>\n",
              "      <td>12/1/2010 8:26</td>\n",
              "      <td>3.39</td>\n",
              "      <td>17850.0</td>\n",
              "      <td>United Kingdom</td>\n",
              "    </tr>\n",
              "  </tbody>\n",
              "</table>\n",
              "</div>"
            ],
            "text/plain": [
              "  InvoiceNo StockCode                          Description  Quantity  \\\n",
              "0    536365    85123A   WHITE HANGING HEART T-LIGHT HOLDER         6   \n",
              "1    536365     71053                  WHITE METAL LANTERN         6   \n",
              "2    536365    84406B       CREAM CUPID HEARTS COAT HANGER         8   \n",
              "3    536365    84029G  KNITTED UNION FLAG HOT WATER BOTTLE         6   \n",
              "4    536365    84029E       RED WOOLLY HOTTIE WHITE HEART.         6   \n",
              "\n",
              "      InvoiceDate  UnitPrice  CustomerID         Country  \n",
              "0  12/1/2010 8:26       2.55     17850.0  United Kingdom  \n",
              "1  12/1/2010 8:26       3.39     17850.0  United Kingdom  \n",
              "2  12/1/2010 8:26       2.75     17850.0  United Kingdom  \n",
              "3  12/1/2010 8:26       3.39     17850.0  United Kingdom  \n",
              "4  12/1/2010 8:26       3.39     17850.0  United Kingdom  "
            ]
          },
          "execution_count": 23,
          "metadata": {},
          "output_type": "execute_result"
        }
      ],
      "source": [
        "# Membaca dataset pelanggan mall dari URL dan menampilkan 5 baris pertama\n",
        "df = pd.read_csv(\"./data-clustering/data.csv\")\n",
        "df.head()"
      ]
    },
    {
      "cell_type": "markdown",
      "metadata": {
        "id": "bgZkbJLpK9UR"
      },
      "source": [
        "# **4. Exploratory Data Analysis (EDA)**\n",
        "\n",
        "Pada tahap ini, Anda akan melakukan **Exploratory Data Analysis (EDA)** untuk memahami karakteristik dataset. EDA bertujuan untuk:\n",
        "\n",
        "1. **Memahami Struktur Data**\n",
        "   - Tinjau jumlah baris dan kolom dalam dataset.  \n",
        "   - Tinjau jenis data di setiap kolom (numerikal atau kategorikal).\n",
        "\n",
        "2. **Menangani Data yang Hilang**  \n",
        "   - Identifikasi dan analisis data yang hilang (*missing values*). Tentukan langkah-langkah yang diperlukan untuk menangani data yang hilang, seperti pengisian atau penghapusan data tersebut.\n",
        "\n",
        "3. **Analisis Distribusi dan Korelasi**  \n",
        "   - Analisis distribusi variabel numerik dengan statistik deskriptif dan visualisasi seperti histogram atau boxplot.  \n",
        "   - Periksa hubungan antara variabel menggunakan matriks korelasi atau scatter plot.\n",
        "\n",
        "4. **Visualisasi Data**  \n",
        "   - Buat visualisasi dasar seperti grafik distribusi dan diagram batang untuk variabel kategorikal.  \n",
        "   - Gunakan heatmap atau pairplot untuk menganalisis korelasi antar variabel.\n",
        "\n",
        "Tujuan dari EDA adalah untuk memperoleh wawasan awal yang mendalam mengenai data dan menentukan langkah selanjutnya dalam analisis atau pemodelan."
      ]
    },
    {
      "cell_type": "code",
      "execution_count": 24,
      "metadata": {
        "id": "dKeejtvxM6X1"
      },
      "outputs": [
        {
          "name": "stdout",
          "output_type": "stream",
          "text": [
            "<class 'pandas.core.frame.DataFrame'>\n",
            "RangeIndex: 2499 entries, 0 to 2498\n",
            "Data columns (total 8 columns):\n",
            " #   Column       Non-Null Count  Dtype  \n",
            "---  ------       --------------  -----  \n",
            " 0   InvoiceNo    2499 non-null   object \n",
            " 1   StockCode    2499 non-null   object \n",
            " 2   Description  2489 non-null   object \n",
            " 3   Quantity     2499 non-null   int64  \n",
            " 4   InvoiceDate  2499 non-null   object \n",
            " 5   UnitPrice    2499 non-null   float64\n",
            " 6   CustomerID   1919 non-null   float64\n",
            " 7   Country      2499 non-null   object \n",
            "dtypes: float64(2), int64(1), object(5)\n",
            "memory usage: 156.3+ KB\n"
          ]
        }
      ],
      "source": [
        "# Menampilkan informasi tentang dataset, termasuk jumlah baris, kolom, tipe data, dan jumlah nilai non-null\n",
        "df.info()"
      ]
    },
    {
      "cell_type": "code",
      "execution_count": 25,
      "metadata": {},
      "outputs": [
        {
          "data": {
            "text/plain": [
              "InvoiceNo        0\n",
              "StockCode        0\n",
              "Description     10\n",
              "Quantity         0\n",
              "InvoiceDate      0\n",
              "UnitPrice        0\n",
              "CustomerID     580\n",
              "Country          0\n",
              "dtype: int64"
            ]
          },
          "execution_count": 25,
          "metadata": {},
          "output_type": "execute_result"
        }
      ],
      "source": [
        "df.isna().sum()"
      ]
    },
    {
      "cell_type": "code",
      "execution_count": 26,
      "metadata": {},
      "outputs": [
        {
          "data": {
            "application/vnd.microsoft.datawrangler.viewer.v0+json": {
              "columns": [
                {
                  "name": "index",
                  "rawType": "object",
                  "type": "string"
                },
                {
                  "name": "Quantity",
                  "rawType": "float64",
                  "type": "float"
                },
                {
                  "name": "UnitPrice",
                  "rawType": "float64",
                  "type": "float"
                },
                {
                  "name": "CustomerID",
                  "rawType": "float64",
                  "type": "float"
                }
              ],
              "conversionMethod": "pd.DataFrame",
              "ref": "39ce6877-ae77-4000-aae2-95f09b0b172e",
              "rows": [
                [
                  "count",
                  "2499.0",
                  "2499.0",
                  "1919.0"
                ],
                [
                  "mean",
                  "10.06842737094838",
                  "3.6994757903161264",
                  "15637.112558624283"
                ],
                [
                  "std",
                  "29.144701928278796",
                  "12.331125459153583",
                  "1848.4187049770228"
                ],
                [
                  "min",
                  "-24.0",
                  "0.0",
                  "12431.0"
                ],
                [
                  "25%",
                  "1.0",
                  "1.25",
                  "14307.0"
                ],
                [
                  "50%",
                  "3.0",
                  "2.51",
                  "15605.0"
                ],
                [
                  "75%",
                  "10.0",
                  "4.21",
                  "17841.0"
                ],
                [
                  "max",
                  "600.0",
                  "569.77",
                  "18229.0"
                ]
              ],
              "shape": {
                "columns": 3,
                "rows": 8
              }
            },
            "text/html": [
              "<div>\n",
              "<style scoped>\n",
              "    .dataframe tbody tr th:only-of-type {\n",
              "        vertical-align: middle;\n",
              "    }\n",
              "\n",
              "    .dataframe tbody tr th {\n",
              "        vertical-align: top;\n",
              "    }\n",
              "\n",
              "    .dataframe thead th {\n",
              "        text-align: right;\n",
              "    }\n",
              "</style>\n",
              "<table border=\"1\" class=\"dataframe\">\n",
              "  <thead>\n",
              "    <tr style=\"text-align: right;\">\n",
              "      <th></th>\n",
              "      <th>Quantity</th>\n",
              "      <th>UnitPrice</th>\n",
              "      <th>CustomerID</th>\n",
              "    </tr>\n",
              "  </thead>\n",
              "  <tbody>\n",
              "    <tr>\n",
              "      <th>count</th>\n",
              "      <td>2499.000000</td>\n",
              "      <td>2499.000000</td>\n",
              "      <td>1919.000000</td>\n",
              "    </tr>\n",
              "    <tr>\n",
              "      <th>mean</th>\n",
              "      <td>10.068427</td>\n",
              "      <td>3.699476</td>\n",
              "      <td>15637.112559</td>\n",
              "    </tr>\n",
              "    <tr>\n",
              "      <th>std</th>\n",
              "      <td>29.144702</td>\n",
              "      <td>12.331125</td>\n",
              "      <td>1848.418705</td>\n",
              "    </tr>\n",
              "    <tr>\n",
              "      <th>min</th>\n",
              "      <td>-24.000000</td>\n",
              "      <td>0.000000</td>\n",
              "      <td>12431.000000</td>\n",
              "    </tr>\n",
              "    <tr>\n",
              "      <th>25%</th>\n",
              "      <td>1.000000</td>\n",
              "      <td>1.250000</td>\n",
              "      <td>14307.000000</td>\n",
              "    </tr>\n",
              "    <tr>\n",
              "      <th>50%</th>\n",
              "      <td>3.000000</td>\n",
              "      <td>2.510000</td>\n",
              "      <td>15605.000000</td>\n",
              "    </tr>\n",
              "    <tr>\n",
              "      <th>75%</th>\n",
              "      <td>10.000000</td>\n",
              "      <td>4.210000</td>\n",
              "      <td>17841.000000</td>\n",
              "    </tr>\n",
              "    <tr>\n",
              "      <th>max</th>\n",
              "      <td>600.000000</td>\n",
              "      <td>569.770000</td>\n",
              "      <td>18229.000000</td>\n",
              "    </tr>\n",
              "  </tbody>\n",
              "</table>\n",
              "</div>"
            ],
            "text/plain": [
              "          Quantity    UnitPrice    CustomerID\n",
              "count  2499.000000  2499.000000   1919.000000\n",
              "mean     10.068427     3.699476  15637.112559\n",
              "std      29.144702    12.331125   1848.418705\n",
              "min     -24.000000     0.000000  12431.000000\n",
              "25%       1.000000     1.250000  14307.000000\n",
              "50%       3.000000     2.510000  15605.000000\n",
              "75%      10.000000     4.210000  17841.000000\n",
              "max     600.000000   569.770000  18229.000000"
            ]
          },
          "execution_count": 26,
          "metadata": {},
          "output_type": "execute_result"
        }
      ],
      "source": [
        "df.describe()"
      ]
    },
    {
      "cell_type": "code",
      "execution_count": 27,
      "metadata": {},
      "outputs": [
        {
          "data": {
            "image/png": "[encoded data removed]",
            "text/plain": [
              "<Figure size 1500x600 with 1 Axes>"
            ]
          },
          "metadata": {},
          "output_type": "display_data"
        }
      ],
      "source": [
        "# Mengelompokkan pendapatan tahunan pelanggan ke dalam kategori dan menghitung jumlah pelanggan di setiap kategori\n",
        "ai0_30 = df[\"UnitPrice\"][(df[\"UnitPrice\"] >= 0.0) & (df[\"UnitPrice\"] <= 120.0)]\n",
        "ai31_60 = df[\"UnitPrice\"][(df[\"UnitPrice\"] >= 121.0) & (df[\"UnitPrice\"] <= 240.0)]\n",
        "ai61_90 = df[\"UnitPrice\"][(df[\"UnitPrice\"] >= 241.0) & (df[\"UnitPrice\"] <= 360.0)]\n",
        "ai91_120 = df[\"UnitPrice\"][(df[\"UnitPrice\"] >= 361.0) & (df[\"UnitPrice\"] <= 480.0)]\n",
        "ai121_150 = df[\"UnitPrice\"][(df[\"UnitPrice\"] >= 481.0) & (df[\"UnitPrice\"] <= 600.0)]\n",
        " \n",
        "# Menyusun data untuk plotting\n",
        "# aix = [\"$ 0 - 50\", \"$ 50 - 100\", \"$ 100 - 200 \", \"$ 200 - 300\", \"$ 300 - 600\"]\n",
        "aix = [\"$ 0 - 120\", \"$ 121 - 240\", \"$ 241 - 360\", \"$ 361 - 480\", \"$ 481 - 600\"]\n",
        "aiy = [len(ai0_30.values), len(ai31_60.values), len(ai61_90.values), len(ai91_120.values), len(ai121_150.values)]\n",
        " \n",
        "# Membuat bar chart untuk distribusi pendapatan tahunan pelanggan\n",
        "plt.figure(figsize=(15, 6))\n",
        "plt.bar(aix, aiy, color=['red', 'green', 'blue', 'cyan', 'yellow'])\n",
        "plt.title(\"Price per Unit\")\n",
        "plt.xlabel(\"Price\")\n",
        "plt.ylabel(\"Number of Customers\")\n",
        "plt.xticks(rotation=45)  # Memutar label sumbu x agar lebih mudah dibaca\n",
        " \n",
        "# Menambahkan label jumlah pelanggan di atas setiap bar\n",
        "for i in range(len(aix)):\n",
        "  plt.text(i, aiy[i], aiy[i], ha='center', va='bottom')\n",
        " \n",
        "plt.show()"
      ]
    },
    {
      "cell_type": "code",
      "execution_count": 28,
      "metadata": {},
      "outputs": [
        {
          "data": {
            "image/png": "[encoded data removed]",
            "text/plain": [
              "<Figure size 1500x600 with 1 Axes>"
            ]
          },
          "metadata": {},
          "output_type": "display_data"
        }
      ],
      "source": [
        "# Mengelompokkan pendapatan tahunan pelanggan ke dalam kategori dan menghitung jumlah pelanggan di setiap kategori\n",
        "ai0_30 = df[\"Quantity\"][(df[\"Quantity\"] >= 0) & (df[\"Quantity\"] <= 50)]\n",
        "ai31_60 = df[\"Quantity\"][(df[\"Quantity\"] >= 51) & (df[\"Quantity\"] <= 100)]\n",
        "ai61_90 = df[\"Quantity\"][(df[\"Quantity\"] >= 101) & (df[\"Quantity\"] <= 200)]\n",
        "ai91_120 = df[\"Quantity\"][(df[\"Quantity\"] >= 201) & (df[\"Quantity\"] <= 300)]\n",
        "ai121_150 = df[\"Quantity\"][(df[\"Quantity\"] >= 301) & (df[\"Quantity\"] <= 600)]\n",
        " \n",
        "# Menyusun data untuk plotting\n",
        "aix = [\"0 - 120\", \"121 - 240\", \"241 - 360\", \"361 - 480\", \"481 - 600\"]\n",
        "aiy = [len(ai0_30.values), len(ai31_60.values), len(ai61_90.values), len(ai91_120.values), len(ai121_150.values)]\n",
        " \n",
        "# Membuat bar chart untuk distribusi pendapatan tahunan pelanggan\n",
        "plt.figure(figsize=(15, 6))\n",
        "plt.bar(aix, aiy, color=['red', 'green', 'blue', 'cyan', 'yellow'])\n",
        "plt.title(\"Customer and Their Quantity of Product\")\n",
        "plt.xlabel(\"Product Quantity\")\n",
        "plt.ylabel(\"Number of Customers\")\n",
        "plt.xticks(rotation=45)  # Memutar label sumbu x agar lebih mudah dibaca\n",
        " \n",
        "# Menambahkan label jumlah pelanggan di atas setiap bar\n",
        "for i in range(len(aix)):\n",
        "  plt.text(i, aiy[i], aiy[i], ha='center', va='bottom')\n",
        " \n",
        "plt.show()"
      ]
    },
    {
      "cell_type": "markdown",
      "metadata": {
        "id": "cpgHfgnSK3ip"
      },
      "source": [
        "# **5. Data Preprocessing**"
      ]
    },
    {
      "cell_type": "markdown",
      "metadata": {
        "id": "COf8KUPXLg5r"
      },
      "source": [
        "Pada tahap ini, data preprocessing adalah langkah penting untuk memastikan kualitas data sebelum digunakan dalam model machine learning. Data mentah sering kali mengandung nilai kosong, duplikasi, atau rentang nilai yang tidak konsisten, yang dapat memengaruhi kinerja model. Oleh karena itu, proses ini bertujuan untuk membersihkan dan mempersiapkan data agar analisis berjalan optimal.\n",
        "\n",
        "Berikut adalah tahapan-tahapan yang bisa dilakukan, tetapi **tidak terbatas** pada:\n",
        "1. Menghapus atau Menangani Data Kosong (Missing Values)\n",
        "2. Menghapus Data Duplikat\n",
        "3. Normalisasi atau Standarisasi Fitur\n",
        "4. Deteksi dan Penanganan Outlier\n",
        "5. Encoding Data Kategorikal\n",
        "6. Binning (Pengelompokan Data)\n",
        "\n",
        "Cukup sesuaikan dengan karakteristik data yang kamu gunakan yah."
      ]
    },
    {
      "cell_type": "code",
      "execution_count": 29,
      "metadata": {
        "id": "WzBGjcbQM7N8"
      },
      "outputs": [
        {
          "data": {
            "text/plain": [
              "Description\n",
              "HAND WARMER SCOTTY DOG DESIGN         18\n",
              "WHITE HANGING HEART T-LIGHT HOLDER    15\n",
              "HAND WARMER RED RETROSPOT             14\n",
              "HAND WARMER OWL DESIGN                14\n",
              "JAM MAKING SET PRINTED                13\n",
              "                                      ..\n",
              "KIDS RAIN MAC PINK                     1\n",
              "LETTER \"S\" BLING KEY RING              1\n",
              "LETTER \"V\" BLING KEY RING              1\n",
              "LETTER \"M\" BLING KEY RING              1\n",
              "BOX OF VINTAGE JIGSAW BLOCKS           1\n",
              "Name: count, Length: 1166, dtype: int64"
            ]
          },
          "execution_count": 29,
          "metadata": {},
          "output_type": "execute_result"
        }
      ],
      "source": [
        "df.Description.value_counts()"
      ]
    },
    {
      "cell_type": "code",
      "execution_count": 30,
      "metadata": {},
      "outputs": [
        {
          "name": "stderr",
          "output_type": "stream",
          "text": [
            "C:\\Users\\risma\\AppData\\Local\\Temp\\ipykernel_34972\\2064402020.py:1: FutureWarning: A value is trying to be set on a copy of a DataFrame or Series through chained assignment using an inplace method.\n",
            "The behavior will change in pandas 3.0. This inplace method will never work because the intermediate object on which we are setting values always behaves as a copy.\n",
            "\n",
            "For example, when doing 'df[col].method(value, inplace=True)', try using 'df.method({col: value}, inplace=True)' or df[col] = df[col].method(value) instead, to perform the operation inplace on the original object.\n",
            "\n",
            "\n",
            "  df['Description'].fillna(value=\"HAND WARMER SCOTTY DOG DESIGN\", inplace=True)\n"
          ]
        },
        {
          "data": {
            "text/plain": [
              "InvoiceNo        0\n",
              "StockCode        0\n",
              "Description      0\n",
              "Quantity         0\n",
              "InvoiceDate      0\n",
              "UnitPrice        0\n",
              "CustomerID     580\n",
              "Country          0\n",
              "dtype: int64"
            ]
          },
          "execution_count": 30,
          "metadata": {},
          "output_type": "execute_result"
        }
      ],
      "source": [
        "df['Description'].fillna(value=\"HAND WARMER SCOTTY DOG DESIGN\", inplace=True)\n",
        "df.isna().sum()"
      ]
    },
    {
      "cell_type": "code",
      "execution_count": 31,
      "metadata": {},
      "outputs": [
        {
          "data": {
            "text/plain": [
              "CustomerID\n",
              "17968.0    85\n",
              "17850.0    84\n",
              "17920.0    81\n",
              "12433.0    73\n",
              "14729.0    71\n",
              "           ..\n",
              "17809.0     1\n",
              "15100.0     1\n",
              "13748.0     1\n",
              "12748.0     1\n",
              "17460.0     1\n",
              "Name: count, Length: 94, dtype: int64"
            ]
          },
          "execution_count": 31,
          "metadata": {},
          "output_type": "execute_result"
        }
      ],
      "source": [
        "df.CustomerID.value_counts()"
      ]
    },
    {
      "cell_type": "code",
      "execution_count": 32,
      "metadata": {},
      "outputs": [
        {
          "name": "stderr",
          "output_type": "stream",
          "text": [
            "C:\\Users\\risma\\AppData\\Local\\Temp\\ipykernel_34972\\899959543.py:1: FutureWarning: A value is trying to be set on a copy of a DataFrame or Series through chained assignment using an inplace method.\n",
            "The behavior will change in pandas 3.0. This inplace method will never work because the intermediate object on which we are setting values always behaves as a copy.\n",
            "\n",
            "For example, when doing 'df[col].method(value, inplace=True)', try using 'df.method({col: value}, inplace=True)' or df[col] = df[col].method(value) instead, to perform the operation inplace on the original object.\n",
            "\n",
            "\n",
            "  df['CustomerID'].fillna(value=17968.0, inplace=True)\n"
          ]
        },
        {
          "data": {
            "text/plain": [
              "InvoiceNo      0\n",
              "StockCode      0\n",
              "Description    0\n",
              "Quantity       0\n",
              "InvoiceDate    0\n",
              "UnitPrice      0\n",
              "CustomerID     0\n",
              "Country        0\n",
              "dtype: int64"
            ]
          },
          "execution_count": 32,
          "metadata": {},
          "output_type": "execute_result"
        }
      ],
      "source": [
        "df['CustomerID'].fillna(value=17968.0, inplace=True)\n",
        "df.isna().sum()"
      ]
    },
    {
      "cell_type": "code",
      "execution_count": 33,
      "metadata": {},
      "outputs": [
        {
          "data": {
            "application/vnd.microsoft.datawrangler.viewer.v0+json": {
              "columns": [
                {
                  "name": "index",
                  "rawType": "object",
                  "type": "string"
                },
                {
                  "name": "Quantity",
                  "rawType": "float64",
                  "type": "float"
                },
                {
                  "name": "UnitPrice",
                  "rawType": "float64",
                  "type": "float"
                },
                {
                  "name": "CustomerID",
                  "rawType": "float64",
                  "type": "float"
                }
              ],
              "conversionMethod": "pd.DataFrame",
              "ref": "4e9a8da5-e903-4a4d-9975-0b8391e8ce5e",
              "rows": [
                [
                  "count",
                  "2499.0",
                  "2499.0",
                  "2499.0"
                ],
                [
                  "mean",
                  "10.145658263305322",
                  "3.6994757903161264",
                  "16178.094837935174"
                ],
                [
                  "std",
                  "29.096943101211348",
                  "12.331125459153583",
                  "1895.2700286224333"
                ],
                [
                  "min",
                  "0.0",
                  "0.0",
                  "12431.0"
                ],
                [
                  "25%",
                  "1.0",
                  "1.25",
                  "14696.0"
                ],
                [
                  "50%",
                  "3.0",
                  "2.51",
                  "16539.0"
                ],
                [
                  "75%",
                  "10.0",
                  "4.21",
                  "17968.0"
                ],
                [
                  "max",
                  "600.0",
                  "569.77",
                  "18229.0"
                ]
              ],
              "shape": {
                "columns": 3,
                "rows": 8
              }
            },
            "text/html": [
              "<div>\n",
              "<style scoped>\n",
              "    .dataframe tbody tr th:only-of-type {\n",
              "        vertical-align: middle;\n",
              "    }\n",
              "\n",
              "    .dataframe tbody tr th {\n",
              "        vertical-align: top;\n",
              "    }\n",
              "\n",
              "    .dataframe thead th {\n",
              "        text-align: right;\n",
              "    }\n",
              "</style>\n",
              "<table border=\"1\" class=\"dataframe\">\n",
              "  <thead>\n",
              "    <tr style=\"text-align: right;\">\n",
              "      <th></th>\n",
              "      <th>Quantity</th>\n",
              "      <th>UnitPrice</th>\n",
              "      <th>CustomerID</th>\n",
              "    </tr>\n",
              "  </thead>\n",
              "  <tbody>\n",
              "    <tr>\n",
              "      <th>count</th>\n",
              "      <td>2499.000000</td>\n",
              "      <td>2499.000000</td>\n",
              "      <td>2499.000000</td>\n",
              "    </tr>\n",
              "    <tr>\n",
              "      <th>mean</th>\n",
              "      <td>10.145658</td>\n",
              "      <td>3.699476</td>\n",
              "      <td>16178.094838</td>\n",
              "    </tr>\n",
              "    <tr>\n",
              "      <th>std</th>\n",
              "      <td>29.096943</td>\n",
              "      <td>12.331125</td>\n",
              "      <td>1895.270029</td>\n",
              "    </tr>\n",
              "    <tr>\n",
              "      <th>min</th>\n",
              "      <td>0.000000</td>\n",
              "      <td>0.000000</td>\n",
              "      <td>12431.000000</td>\n",
              "    </tr>\n",
              "    <tr>\n",
              "      <th>25%</th>\n",
              "      <td>1.000000</td>\n",
              "      <td>1.250000</td>\n",
              "      <td>14696.000000</td>\n",
              "    </tr>\n",
              "    <tr>\n",
              "      <th>50%</th>\n",
              "      <td>3.000000</td>\n",
              "      <td>2.510000</td>\n",
              "      <td>16539.000000</td>\n",
              "    </tr>\n",
              "    <tr>\n",
              "      <th>75%</th>\n",
              "      <td>10.000000</td>\n",
              "      <td>4.210000</td>\n",
              "      <td>17968.000000</td>\n",
              "    </tr>\n",
              "    <tr>\n",
              "      <th>max</th>\n",
              "      <td>600.000000</td>\n",
              "      <td>569.770000</td>\n",
              "      <td>18229.000000</td>\n",
              "    </tr>\n",
              "  </tbody>\n",
              "</table>\n",
              "</div>"
            ],
            "text/plain": [
              "          Quantity    UnitPrice    CustomerID\n",
              "count  2499.000000  2499.000000   2499.000000\n",
              "mean     10.145658     3.699476  16178.094838\n",
              "std      29.096943    12.331125   1895.270029\n",
              "min       0.000000     0.000000  12431.000000\n",
              "25%       1.000000     1.250000  14696.000000\n",
              "50%       3.000000     2.510000  16539.000000\n",
              "75%      10.000000     4.210000  17968.000000\n",
              "max     600.000000   569.770000  18229.000000"
            ]
          },
          "execution_count": 33,
          "metadata": {},
          "output_type": "execute_result"
        }
      ],
      "source": [
        "df['Quantity'] = df['Quantity'].apply(lambda x: x if x >= 0 else 0)\n",
        "df.describe()"
      ]
    },
    {
      "cell_type": "code",
      "execution_count": 34,
      "metadata": {},
      "outputs": [
        {
          "name": "stdout",
          "output_type": "stream",
          "text": [
            "Jumlah duplikasi:  44\n"
          ]
        }
      ],
      "source": [
        "df.isna().sum()\n",
        "print(\"Jumlah duplikasi: \", df.duplicated().sum())"
      ]
    },
    {
      "cell_type": "code",
      "execution_count": 35,
      "metadata": {},
      "outputs": [
        {
          "name": "stdout",
          "output_type": "stream",
          "text": [
            "Jumlah duplikasi:  0\n"
          ]
        }
      ],
      "source": [
        "df.drop_duplicates(inplace=True)\n",
        "print(\"Jumlah duplikasi: \", df.duplicated().sum())"
      ]
    },
    {
      "cell_type": "code",
      "execution_count": 36,
      "metadata": {},
      "outputs": [
        {
          "name": "stdout",
          "output_type": "stream",
          "text": [
            "      Quantity  UnitPrice\n",
            "0          6.0       2.55\n",
            "1          6.0       3.39\n",
            "2          8.0       2.75\n",
            "3          6.0       3.39\n",
            "4          6.0       3.39\n",
            "...        ...        ...\n",
            "2450       1.0       4.21\n",
            "2451       1.0       7.62\n",
            "2452       1.0      11.02\n",
            "2453       1.0       2.51\n",
            "2454       1.0       5.91\n",
            "\n",
            "[2455 rows x 2 columns]\n"
          ]
        }
      ],
      "source": [
        "X = df.iloc[:, [3, 5]].values\n",
        "print(pd.DataFrame(X, columns=['Quantity', 'UnitPrice']))"
      ]
    },
    {
      "cell_type": "markdown",
      "metadata": {
        "id": "BR73dCnrLEiq"
      },
      "source": [
        "# **6. Pembangunan Model Clustering**"
      ]
    },
    {
      "cell_type": "markdown",
      "metadata": {
        "id": "Fkd_QHXWMBDr"
      },
      "source": [
        "## **a. Pembangunan Model Clustering**"
      ]
    },
    {
      "cell_type": "markdown",
      "metadata": {
        "id": "Kn6Y2qbqMVLP"
      },
      "source": [
        "Pada tahap ini, Anda membangun model clustering dengan memilih algoritma yang sesuai untuk mengelompokkan data berdasarkan kesamaan. Berikut adalah **rekomendasi** tahapannya.\n",
        "1. Pilih algoritma clustering yang sesuai.\n",
        "2. Latih model dengan data menggunakan algoritma tersebut."
      ]
    },
    {
      "cell_type": "code",
      "execution_count": 37,
      "metadata": {
        "id": "hgYvwWOzM93L"
      },
      "outputs": [
        {
          "name": "stdout",
          "output_type": "stream",
          "text": [
            "Analisis Karakteristik Setiap Cluster:\n",
            "\n",
            "Cluster 1:\n",
            "Rata-rata Quantity: 4.03\n",
            "Rata-rata Unit Price: 4.02\n",
            "\n",
            "Cluster 2:\n",
            "Rata-rata Quantity: 134.76\n",
            "Rata-rata Unit Price: 1.54\n",
            "\n",
            "Cluster 3:\n",
            "Rata-rata Quantity: 465.60\n",
            "Rata-rata Unit Price: 1.86\n",
            "\n",
            "Cluster 4:\n",
            "Rata-rata Quantity: 33.42\n",
            "Rata-rata Unit Price: 1.52\n"
          ]
        }
      ],
      "source": [
        "from sklearn.cluster import KMeans\n",
        " \n",
        "# Inisialisasi dan melatih model KMeans dengan jumlah cluster = 4\n",
        "kmeans = KMeans(n_clusters= 4, random_state=0)\n",
        "kmeans.fit(X)\n",
        "\n",
        "# Mendapatkan label cluster\n",
        "labels = kmeans.labels_\n",
        " \n",
        "# Mendapatkan jumlah cluster\n",
        "k = 4\n",
        " \n",
        "# Fungsi untuk analisis karakteristik cluster\n",
        "def analyze_clusters(X, labels, k):\n",
        "    print(\"Analisis Karakteristik Setiap Cluster:\")\n",
        "    for cluster_id in range(k):\n",
        "        # Mengambil data untuk cluster saat ini\n",
        "        cluster_data = X[labels == cluster_id]\n",
        " \n",
        "        # Menghitung rata-rata untuk setiap fitur dalam cluster\n",
        "        mean_income = cluster_data[:, 0].mean()  # Rata-rata Annual Income\n",
        "        mean_spending = cluster_data[:, 1].mean()  # Rata-rata Spending Score\n",
        " \n",
        "        print(f\"\\nCluster {cluster_id + 1}:\")\n",
        "        print(f\"Rata-rata Quantity: {mean_income:.2f}\")\n",
        "        print(f\"Rata-rata Unit Price: {mean_spending:.2f}\")\n",
        " \n",
        "# Analisis karakteristik setiap cluster\n",
        "analyze_clusters(X, labels, k)"
      ]
    },
    {
      "cell_type": "markdown",
      "metadata": {
        "id": "zsGVwzPKMEvn"
      },
      "source": [
        "## **b. Evaluasi Model Clustering**"
      ]
    },
    {
      "cell_type": "markdown",
      "metadata": {
        "id": "qk63ew39MeBf"
      },
      "source": [
        "Untuk menentukan jumlah cluster yang optimal dalam model clustering, Anda dapat menggunakan metode Elbow atau Silhouette Score.\n",
        "\n",
        "Metode ini membantu kita menemukan jumlah cluster yang memberikan pemisahan terbaik antar kelompok data, sehingga model yang dibangun dapat lebih efektif. Berikut adalah **rekomendasi** tahapannya.\n",
        "1. Gunakan Silhouette Score dan Elbow Method untuk menentukan jumlah cluster optimal.\n",
        "2. Hitung Silhouette Score sebagai ukuran kualitas cluster."
      ]
    },
    {
      "cell_type": "code",
      "execution_count": 38,
      "metadata": {},
      "outputs": [
        {
          "data": {
            "image/png": "[encoded data removed]",
            "text/plain": [
              "<Figure size 800x550 with 2 Axes>"
            ]
          },
          "metadata": {},
          "output_type": "display_data"
        },
        {
          "data": {
            "text/plain": [
              "<Axes: title={'center': 'Distortion Score Elbow for KMeans Clustering'}, xlabel='k', ylabel='distortion score'>"
            ]
          },
          "execution_count": 38,
          "metadata": {},
          "output_type": "execute_result"
        }
      ],
      "source": [
        "kmeans = KMeans()\n",
        "visualizer = KElbowVisualizer(kmeans, k=(1, 10))\n",
        "visualizer.fit(X)\n",
        "visualizer.show()"
      ]
    },
    {
      "cell_type": "markdown",
      "metadata": {
        "id": "vWZp5vKNQddd"
      },
      "source": [
        "## **c. Feature Selection (Opsional)**"
      ]
    },
    {
      "cell_type": "markdown",
      "metadata": {
        "id": "QIHKgE07Q4c0"
      },
      "source": [
        "Silakan lakukan feature selection jika Anda membutuhkan optimasi model clustering. Jika Anda menerapkan proses ini, silakan lakukan pemodelan dan evaluasi kembali menggunakan kolom-kolom hasil feature selection. Terakhir, bandingkan hasil performa model sebelum dan sesudah menerapkan feature selection."
      ]
    },
    {
      "cell_type": "code",
      "execution_count": 39,
      "metadata": {
        "id": "Vbstha0PRUpI"
      },
      "outputs": [],
      "source": [
        "#Type your code here"
      ]
    },
    {
      "cell_type": "markdown",
      "metadata": {
        "id": "nn01TKkLLRiF"
      },
      "source": [
        "## **d. Visualisasi Hasil Clustering**"
      ]
    },
    {
      "cell_type": "markdown",
      "metadata": {
        "id": "gaz0fnhhMkRI"
      },
      "source": [
        "Setelah model clustering dilatih dan jumlah cluster optimal ditentukan, langkah selanjutnya adalah menampilkan hasil clustering melalui visualisasi.\n",
        "\n",
        "Berikut adalah **rekomendasi** tahapannya.\n",
        "1. Tampilkan hasil clustering dalam bentuk visualisasi, seperti grafik scatter plot atau 2D PCA projection."
      ]
    },
    {
      "cell_type": "code",
      "execution_count": 40,
      "metadata": {
        "id": "lfOjVvfYM-4v"
      },
      "outputs": [
        {
          "data": {
            "image/png": "[encoded data removed]",
            "text/plain": [
              "<Figure size 1200x800 with 1 Axes>"
            ]
          },
          "metadata": {},
          "output_type": "display_data"
        },
        {
          "name": "stdout",
          "output_type": "stream",
          "text": [
            "Nilai Centroids:\n",
            "Centroid 1: Quantity = 2.33, Unit Price = 4.10\n",
            "Centroid 2: Quantity = 216.50, Unit Price = 1.96\n",
            "Centroid 3: Quantity = 53.83, Unit Price = 1.77\n",
            "Centroid 4: Quantity = 1.00, Unit Price = 569.77\n",
            "Centroid 5: Quantity = 465.60, Unit Price = 1.86\n",
            "Centroid 6: Quantity = 115.53, Unit Price = 1.44\n",
            "Centroid 7: Quantity = 11.09, Unit Price = 1.98\n",
            "Centroid 8: Quantity = 1.00, Unit Price = 165.00\n",
            "Centroid 9: Quantity = 25.93, Unit Price = 1.44\n"
          ]
        }
      ],
      "source": [
        "import matplotlib.pyplot as plt\n",
        " \n",
        "# Menentukan posisi centroid\n",
        "centroids = kmeans.cluster_centers_\n",
        " \n",
        "# Visualisasi cluster\n",
        "plt.figure(figsize=(12, 8))\n",
        " \n",
        "# Plot data\n",
        "plt.scatter(X[:, 0], X[:, 1], c=labels, cmap='viridis', s=50, alpha=0.6, edgecolors='w', marker='o')\n",
        " \n",
        "# Plot centroid\n",
        "plt.scatter(centroids[:, 0], centroids[:, 1], c='red', s=200, marker='X', label='Centroids')\n",
        " \n",
        "# Menambahkan label centroid pada plot\n",
        "for i, centroid in enumerate(centroids):\n",
        "    plt.text(centroid[0], centroid[1], f'Centroid {i+1}', color='red', fontsize=12, ha='center', va='center')\n",
        " \n",
        "# Menambahkan judul dan label\n",
        "plt.title('Visualisasi Cluster dengan Centroid')\n",
        "plt.xlabel('Quantity')\n",
        "plt.ylabel('Unit Price')\n",
        "plt.legend()\n",
        " \n",
        "plt.show()\n",
        " \n",
        "# Menampilkan nilai centroid\n",
        "print(\"Nilai Centroids:\")\n",
        "for i, centroid in enumerate(centroids):\n",
        "    print(f\"Centroid {i+1}: Quantity = {centroid[0]:.2f}, Unit Price = {centroid[1]:.2f}\")"
      ]
    },
    {
      "cell_type": "markdown",
      "metadata": {
        "id": "X4eydPWJLH4I"
      },
      "source": [
        "## **e. Analisis dan Interpretasi Hasil Cluster**"
      ]
    },
    {
      "cell_type": "markdown",
      "metadata": {
        "id": "SENfLnfRMpC-"
      },
      "source": [
        "Setelah melakukan clustering, langkah selanjutnya adalah menganalisis karakteristik dari masing-masing cluster berdasarkan fitur yang tersedia.\n",
        "\n",
        "Berikut adalah **rekomendasi** tahapannya.\n",
        "1. Analisis karakteristik tiap cluster berdasarkan fitur yang tersedia (misalnya, distribusi nilai dalam cluster).\n",
        "2. Berikan interpretasi: Apakah hasil clustering sesuai dengan ekspektasi dan logika bisnis? Apakah ada pola tertentu yang bisa dimanfaatkan?"
      ]
    },
    {
      "cell_type": "markdown",
      "metadata": {},
      "source": [
        "Tulis hasil interpretasinya di sini.\n",
        "1. Cluster 1 :\n",
        "   - rata - rata quantity = 4.03 \n",
        "   - rata - rata unit price = 4.02\n",
        "   - analisis = cluster ini mencakup pelanggan yang membeli barang dengan jumlah sangat kecil dan harga yang relatif sangat tinggi\n",
        "2. Cluster 2 :\n",
        "   - rata - rata quantity = 134.76 \n",
        "   - rata - rata unit price = 1.54\n",
        "   - analisis = cluster ini mencakup pelanggan yang membeli barang dengan jumlah besar dan harga yang relatif cukup rendah\n",
        "3. Cluster 3 :\n",
        "   - rata - rata quantity = 465.60 \n",
        "   - rata - rata unit price = 1.86\n",
        "   - analisis = cluster ini mencakup pelanggan yang membeli barang dengan jumlah sangat besar dan harga yang relatif tinggi\n",
        "4. Cluster 4 :\n",
        "   - rata - rata quantity = 33.42 \n",
        "   - rata - rata unit price = 1.52\n",
        "   - analisis = cluster ini mencakup pelanggan yang membeli barang dengan jumlah kecil dan harga yang rendah"
      ]
    },
    {
      "cell_type": "markdown",
      "metadata": {
        "id": "jaYP1fx5VgWO"
      },
      "source": [
        "# **7. Mengeksport Data**\n",
        "\n",
        "Simpan hasilnya ke dalam file CSV."
      ]
    },
    {
      "cell_type": "code",
      "execution_count": 41,
      "metadata": {},
      "outputs": [],
      "source": [
        "# kmeans.fit(df)\n",
        "df['Cluster'] = kmeans.labels_"
      ]
    },
    {
      "cell_type": "code",
      "execution_count": 42,
      "metadata": {
        "id": "fkbg_o80aRSH"
      },
      "outputs": [],
      "source": [
        "df.to_csv('clustered_data.csv', index=False)"
      ]
    }
  ],
  "metadata": {
    "colab": {
      "provenance": []
    },
    "kernelspec": {
      "display_name": "Python 3",
      "name": "python3"
    },
    "language_info": {
      "codemirror_mode": {
        "name": "ipython",
        "version": 3
      },
      "file_extension": ".py",
      "mimetype": "text/x-python",
      "name": "python",
      "nbconvert_exporter": "python",
      "pygments_lexer": "ipython3",
      "version": "3.12.5"
    }
  },
  "nbformat": 4,
  "nbformat_minor": 0
}
